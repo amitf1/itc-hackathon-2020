{
 "cells": [
  {
   "cell_type": "code",
   "execution_count": 1,
   "metadata": {
    "ExecuteTime": {
     "end_time": "2020-06-09T14:38:11.325335Z",
     "start_time": "2020-06-09T14:38:10.854673Z"
    }
   },
   "outputs": [],
   "source": [
    "import pandas as pd"
   ]
  },
  {
   "cell_type": "code",
   "execution_count": 2,
   "metadata": {
    "ExecuteTime": {
     "end_time": "2020-06-09T14:38:11.747980Z",
     "start_time": "2020-06-09T14:38:11.712026Z"
    }
   },
   "outputs": [
    {
     "data": {
      "text/html": [
       "<div>\n",
       "<style scoped>\n",
       "    .dataframe tbody tr th:only-of-type {\n",
       "        vertical-align: middle;\n",
       "    }\n",
       "\n",
       "    .dataframe tbody tr th {\n",
       "        vertical-align: top;\n",
       "    }\n",
       "\n",
       "    .dataframe thead th {\n",
       "        text-align: right;\n",
       "    }\n",
       "</style>\n",
       "<table border=\"1\" class=\"dataframe\">\n",
       "  <thead>\n",
       "    <tr style=\"text-align: right;\">\n",
       "      <th></th>\n",
       "      <th>summary</th>\n",
       "      <th>title</th>\n",
       "      <th>category</th>\n",
       "    </tr>\n",
       "  </thead>\n",
       "  <tbody>\n",
       "    <tr>\n",
       "      <th>0</th>\n",
       "      <td>Help us set up a new training classroom to tea...</td>\n",
       "      <td>Cents Ability Classroom Set-up</td>\n",
       "      <td>Strengthening Communities</td>\n",
       "    </tr>\n",
       "    <tr>\n",
       "      <th>1</th>\n",
       "      <td>Mentor homeless children between the ages of 2...</td>\n",
       "      <td>Mentor Homeless Youth</td>\n",
       "      <td>Education</td>\n",
       "    </tr>\n",
       "    <tr>\n",
       "      <th>2</th>\n",
       "      <td>Are you interested in journalism, research, wr...</td>\n",
       "      <td>Journalism, Copywriting, Creative Writing Oppo...</td>\n",
       "      <td>NaN</td>\n",
       "    </tr>\n",
       "    <tr>\n",
       "      <th>3</th>\n",
       "      <td>In celebration of Father's Day, we invite fath...</td>\n",
       "      <td>Volunteers Needed for Senior Lunch Program!</td>\n",
       "      <td>Helping Neighbors in Need</td>\n",
       "    </tr>\n",
       "    <tr>\n",
       "      <th>4</th>\n",
       "      <td>The Police Athletic League of New York City se...</td>\n",
       "      <td>Special Events Assistant</td>\n",
       "      <td>Strengthening Communities</td>\n",
       "    </tr>\n",
       "  </tbody>\n",
       "</table>\n",
       "</div>"
      ],
      "text/plain": [
       "                                             summary  \\\n",
       "0  Help us set up a new training classroom to tea...   \n",
       "1  Mentor homeless children between the ages of 2...   \n",
       "2  Are you interested in journalism, research, wr...   \n",
       "3  In celebration of Father's Day, we invite fath...   \n",
       "4  The Police Athletic League of New York City se...   \n",
       "\n",
       "                                               title  \\\n",
       "0                     Cents Ability Classroom Set-up   \n",
       "1                              Mentor Homeless Youth   \n",
       "2  Journalism, Copywriting, Creative Writing Oppo...   \n",
       "3        Volunteers Needed for Senior Lunch Program!   \n",
       "4                           Special Events Assistant   \n",
       "\n",
       "                    category  \n",
       "0  Strengthening Communities  \n",
       "1                  Education  \n",
       "2                        NaN  \n",
       "3  Helping Neighbors in Need  \n",
       "4  Strengthening Communities  "
      ]
     },
     "execution_count": 2,
     "metadata": {},
     "output_type": "execute_result"
    }
   ],
   "source": [
    "df = pd.read_csv(\"joined_dataset.csv\", usecols=[\"summary\", \"title\",\n",
    "                                                \"category\"])\n",
    "df.head()"
   ]
  },
  {
   "cell_type": "code",
   "execution_count": 3,
   "metadata": {
    "ExecuteTime": {
     "end_time": "2020-06-09T14:38:12.714812Z",
     "start_time": "2020-06-09T14:38:12.701810Z"
    }
   },
   "outputs": [
    {
     "name": "stdout",
     "output_type": "stream",
     "text": [
      "<class 'pandas.core.frame.DataFrame'>\n",
      "RangeIndex: 1125 entries, 0 to 1124\n",
      "Data columns (total 3 columns):\n",
      " #   Column    Non-Null Count  Dtype \n",
      "---  ------    --------------  ----- \n",
      " 0   summary   1108 non-null   object\n",
      " 1   title     1108 non-null   object\n",
      " 2   category  706 non-null    object\n",
      "dtypes: object(3)\n",
      "memory usage: 26.5+ KB\n"
     ]
    }
   ],
   "source": [
    "df.info()"
   ]
  },
  {
   "cell_type": "code",
   "execution_count": 4,
   "metadata": {
    "ExecuteTime": {
     "end_time": "2020-06-09T14:38:15.536770Z",
     "start_time": "2020-06-09T14:38:15.512767Z"
    }
   },
   "outputs": [
    {
     "data": {
      "text/html": [
       "<div>\n",
       "<style scoped>\n",
       "    .dataframe tbody tr th:only-of-type {\n",
       "        vertical-align: middle;\n",
       "    }\n",
       "\n",
       "    .dataframe tbody tr th {\n",
       "        vertical-align: top;\n",
       "    }\n",
       "\n",
       "    .dataframe thead th {\n",
       "        text-align: right;\n",
       "    }\n",
       "</style>\n",
       "<table border=\"1\" class=\"dataframe\">\n",
       "  <thead>\n",
       "    <tr style=\"text-align: right;\">\n",
       "      <th></th>\n",
       "      <th>summary</th>\n",
       "      <th>title</th>\n",
       "      <th>category</th>\n",
       "    </tr>\n",
       "  </thead>\n",
       "  <tbody>\n",
       "    <tr>\n",
       "      <th>count</th>\n",
       "      <td>1108</td>\n",
       "      <td>1108</td>\n",
       "      <td>706</td>\n",
       "    </tr>\n",
       "    <tr>\n",
       "      <th>unique</th>\n",
       "      <td>1058</td>\n",
       "      <td>1054</td>\n",
       "      <td>10</td>\n",
       "    </tr>\n",
       "    <tr>\n",
       "      <th>top</th>\n",
       "      <td>We are New York City’s largest girls-only yout...</td>\n",
       "      <td>Grant Writer</td>\n",
       "      <td>Strengthening Communities</td>\n",
       "    </tr>\n",
       "    <tr>\n",
       "      <th>freq</th>\n",
       "      <td>6</td>\n",
       "      <td>9</td>\n",
       "      <td>307</td>\n",
       "    </tr>\n",
       "  </tbody>\n",
       "</table>\n",
       "</div>"
      ],
      "text/plain": [
       "                                                  summary         title  \\\n",
       "count                                                1108          1108   \n",
       "unique                                               1058          1054   \n",
       "top     We are New York City’s largest girls-only yout...  Grant Writer   \n",
       "freq                                                    6             9   \n",
       "\n",
       "                         category  \n",
       "count                         706  \n",
       "unique                         10  \n",
       "top     Strengthening Communities  \n",
       "freq                          307  "
      ]
     },
     "execution_count": 4,
     "metadata": {},
     "output_type": "execute_result"
    }
   ],
   "source": [
    "df.describe()"
   ]
  },
  {
   "cell_type": "code",
   "execution_count": 5,
   "metadata": {
    "ExecuteTime": {
     "end_time": "2020-06-09T14:38:25.989104Z",
     "start_time": "2020-06-09T14:38:25.081490Z"
    }
   },
   "outputs": [],
   "source": [
    "import numpy as np\n",
    "from nltk.stem.porter import PorterStemmer\n",
    "from nltk.corpus import stopwords\n",
    "from sklearn.feature_extraction.text import CountVectorizer\n",
    "from sklearn.decomposition import LatentDirichletAllocation\n",
    "from sklearn.preprocessing import MultiLabelBinarizer\n",
    "from sklearn.feature_extraction.text import TfidfVectorizer"
   ]
  },
  {
   "cell_type": "markdown",
   "metadata": {},
   "source": [
    "Creating a TF-IDF vectorizer:"
   ]
  },
  {
   "cell_type": "code",
   "execution_count": 6,
   "metadata": {
    "ExecuteTime": {
     "end_time": "2020-06-09T14:38:27.312773Z",
     "start_time": "2020-06-09T14:38:27.309773Z"
    }
   },
   "outputs": [],
   "source": [
    "tfidf_vec = TfidfVectorizer(stop_words=\"english\", lowercase=True,\n",
    "                            ngram_range=(1, 2))"
   ]
  },
  {
   "cell_type": "code",
   "execution_count": null,
   "metadata": {
    "ExecuteTime": {
     "end_time": "2020-06-09T14:40:40.531498Z",
     "start_time": "2020-06-09T14:40:40.498499Z"
    }
   },
   "outputs": [],
   "source": [
    "tfidf_summary = tfidf_vec.fit_transform([df[\"summary\"]])"
   ]
  },
  {
   "cell_type": "code",
   "execution_count": null,
   "metadata": {},
   "outputs": [],
   "source": []
  }
 ],
 "metadata": {
  "kernelspec": {
   "display_name": "Python 3",
   "language": "python",
   "name": "python3"
  },
  "language_info": {
   "codemirror_mode": {
    "name": "ipython",
    "version": 3
   },
   "file_extension": ".py",
   "mimetype": "text/x-python",
   "name": "python",
   "nbconvert_exporter": "python",
   "pygments_lexer": "ipython3",
   "version": "3.7.4"
  },
  "latex_envs": {
   "LaTeX_envs_menu_present": true,
   "autoclose": false,
   "autocomplete": true,
   "bibliofile": "biblio.bib",
   "cite_by": "apalike",
   "current_citInitial": 1,
   "eqLabelWithNumbers": true,
   "eqNumInitial": 1,
   "hotkeys": {
    "equation": "Ctrl-E",
    "itemize": "Ctrl-I"
   },
   "labels_anchors": false,
   "latex_user_defs": false,
   "report_style_numbering": false,
   "user_envs_cfg": false
  },
  "toc": {
   "base_numbering": 1,
   "nav_menu": {},
   "number_sections": true,
   "sideBar": true,
   "skip_h1_title": false,
   "title_cell": "Table of Contents",
   "title_sidebar": "Contents",
   "toc_cell": false,
   "toc_position": {},
   "toc_section_display": true,
   "toc_window_display": false
  }
 },
 "nbformat": 4,
 "nbformat_minor": 4
}
