{
 "cells": [
  {
   "cell_type": "code",
   "execution_count": 1,
   "metadata": {
    "ExecuteTime": {
     "end_time": "2020-06-09T16:02:23.091901Z",
     "start_time": "2020-06-09T16:02:21.702385Z"
    }
   },
   "outputs": [],
   "source": [
    "import pandas as pd\n",
    "from sklearn.feature_extraction.text import TfidfVectorizer\n",
    "from nltk.corpus import stopwords\n",
    "import re\n",
    "import numpy as np"
   ]
  },
  {
   "cell_type": "code",
   "execution_count": 2,
   "metadata": {
    "ExecuteTime": {
     "end_time": "2020-06-09T16:02:23.103143Z",
     "start_time": "2020-06-09T16:02:23.091901Z"
    }
   },
   "outputs": [],
   "source": [
    "stopwords = stopwords.words('english')"
   ]
  },
  {
   "cell_type": "code",
   "execution_count": 3,
   "metadata": {
    "ExecuteTime": {
     "end_time": "2020-06-09T16:02:23.113144Z",
     "start_time": "2020-06-09T16:02:23.107141Z"
    }
   },
   "outputs": [],
   "source": [
    "vectorizer = TfidfVectorizer(stop_words=stopwords)"
   ]
  },
  {
   "cell_type": "code",
   "execution_count": 4,
   "metadata": {
    "ExecuteTime": {
     "end_time": "2020-06-09T16:02:23.141235Z",
     "start_time": "2020-06-09T16:02:23.115142Z"
    }
   },
   "outputs": [],
   "source": [
    "df = pd.read_csv('joined_dataset.csv')"
   ]
  },
  {
   "cell_type": "code",
   "execution_count": 5,
   "metadata": {
    "ExecuteTime": {
     "end_time": "2020-06-09T16:02:23.167142Z",
     "start_time": "2020-06-09T16:02:23.143139Z"
    }
   },
   "outputs": [
    {
     "data": {
      "text/html": [
       "<div>\n",
       "<style scoped>\n",
       "    .dataframe tbody tr th:only-of-type {\n",
       "        vertical-align: middle;\n",
       "    }\n",
       "\n",
       "    .dataframe tbody tr th {\n",
       "        vertical-align: top;\n",
       "    }\n",
       "\n",
       "    .dataframe thead th {\n",
       "        text-align: right;\n",
       "    }\n",
       "</style>\n",
       "<table border=\"1\" class=\"dataframe\">\n",
       "  <thead>\n",
       "    <tr style=\"text-align: right;\">\n",
       "      <th></th>\n",
       "      <th>Unnamed: 0</th>\n",
       "      <th>summary</th>\n",
       "      <th>title</th>\n",
       "      <th>category</th>\n",
       "    </tr>\n",
       "  </thead>\n",
       "  <tbody>\n",
       "    <tr>\n",
       "      <th>0</th>\n",
       "      <td>0</td>\n",
       "      <td>Help us set up a new training classroom to tea...</td>\n",
       "      <td>Cents Ability Classroom Set-up</td>\n",
       "      <td>Strengthening Communities</td>\n",
       "    </tr>\n",
       "    <tr>\n",
       "      <th>1</th>\n",
       "      <td>1</td>\n",
       "      <td>Mentor homeless children between the ages of 2...</td>\n",
       "      <td>Mentor Homeless Youth</td>\n",
       "      <td>Education</td>\n",
       "    </tr>\n",
       "    <tr>\n",
       "      <th>2</th>\n",
       "      <td>2</td>\n",
       "      <td>Are you interested in journalism, research, wr...</td>\n",
       "      <td>Journalism, Copywriting, Creative Writing Oppo...</td>\n",
       "      <td>NaN</td>\n",
       "    </tr>\n",
       "    <tr>\n",
       "      <th>3</th>\n",
       "      <td>3</td>\n",
       "      <td>In celebration of Father's Day, we invite fath...</td>\n",
       "      <td>Volunteers Needed for Senior Lunch Program!</td>\n",
       "      <td>Helping Neighbors in Need</td>\n",
       "    </tr>\n",
       "    <tr>\n",
       "      <th>4</th>\n",
       "      <td>4</td>\n",
       "      <td>The Police Athletic League of New York City se...</td>\n",
       "      <td>Special Events Assistant</td>\n",
       "      <td>Strengthening Communities</td>\n",
       "    </tr>\n",
       "    <tr>\n",
       "      <th>...</th>\n",
       "      <td>...</td>\n",
       "      <td>...</td>\n",
       "      <td>...</td>\n",
       "      <td>...</td>\n",
       "    </tr>\n",
       "    <tr>\n",
       "      <th>1120</th>\n",
       "      <td>1120</td>\n",
       "      <td>NaN</td>\n",
       "      <td>NaN</td>\n",
       "      <td>NaN</td>\n",
       "    </tr>\n",
       "    <tr>\n",
       "      <th>1121</th>\n",
       "      <td>1121</td>\n",
       "      <td>NaN</td>\n",
       "      <td>NaN</td>\n",
       "      <td>NaN</td>\n",
       "    </tr>\n",
       "    <tr>\n",
       "      <th>1122</th>\n",
       "      <td>1122</td>\n",
       "      <td>NaN</td>\n",
       "      <td>NaN</td>\n",
       "      <td>NaN</td>\n",
       "    </tr>\n",
       "    <tr>\n",
       "      <th>1123</th>\n",
       "      <td>1123</td>\n",
       "      <td>NaN</td>\n",
       "      <td>NaN</td>\n",
       "      <td>NaN</td>\n",
       "    </tr>\n",
       "    <tr>\n",
       "      <th>1124</th>\n",
       "      <td>1124</td>\n",
       "      <td>NaN</td>\n",
       "      <td>NaN</td>\n",
       "      <td>NaN</td>\n",
       "    </tr>\n",
       "  </tbody>\n",
       "</table>\n",
       "<p>1125 rows × 4 columns</p>\n",
       "</div>"
      ],
      "text/plain": [
       "      Unnamed: 0                                            summary  \\\n",
       "0              0  Help us set up a new training classroom to tea...   \n",
       "1              1  Mentor homeless children between the ages of 2...   \n",
       "2              2  Are you interested in journalism, research, wr...   \n",
       "3              3  In celebration of Father's Day, we invite fath...   \n",
       "4              4  The Police Athletic League of New York City se...   \n",
       "...          ...                                                ...   \n",
       "1120        1120                                                NaN   \n",
       "1121        1121                                                NaN   \n",
       "1122        1122                                                NaN   \n",
       "1123        1123                                                NaN   \n",
       "1124        1124                                                NaN   \n",
       "\n",
       "                                                  title  \\\n",
       "0                        Cents Ability Classroom Set-up   \n",
       "1                                 Mentor Homeless Youth   \n",
       "2     Journalism, Copywriting, Creative Writing Oppo...   \n",
       "3           Volunteers Needed for Senior Lunch Program!   \n",
       "4                              Special Events Assistant   \n",
       "...                                                 ...   \n",
       "1120                                                NaN   \n",
       "1121                                                NaN   \n",
       "1122                                                NaN   \n",
       "1123                                                NaN   \n",
       "1124                                                NaN   \n",
       "\n",
       "                       category  \n",
       "0     Strengthening Communities  \n",
       "1                     Education  \n",
       "2                           NaN  \n",
       "3     Helping Neighbors in Need  \n",
       "4     Strengthening Communities  \n",
       "...                         ...  \n",
       "1120                        NaN  \n",
       "1121                        NaN  \n",
       "1122                        NaN  \n",
       "1123                        NaN  \n",
       "1124                        NaN  \n",
       "\n",
       "[1125 rows x 4 columns]"
      ]
     },
     "execution_count": 5,
     "metadata": {},
     "output_type": "execute_result"
    }
   ],
   "source": [
    "df"
   ]
  },
  {
   "cell_type": "code",
   "execution_count": 6,
   "metadata": {
    "ExecuteTime": {
     "end_time": "2020-06-09T16:02:23.180148Z",
     "start_time": "2020-06-09T16:02:23.169148Z"
    }
   },
   "outputs": [],
   "source": [
    "# df.rename(columns={'sum':'summ'}, inplace=True)"
   ]
  },
  {
   "cell_type": "code",
   "execution_count": 7,
   "metadata": {
    "ExecuteTime": {
     "end_time": "2020-06-09T16:02:23.193181Z",
     "start_time": "2020-06-09T16:02:23.182143Z"
    }
   },
   "outputs": [],
   "source": [
    "Xy = df[['summary', 'category']].dropna()"
   ]
  },
  {
   "cell_type": "code",
   "execution_count": 8,
   "metadata": {
    "ExecuteTime": {
     "end_time": "2020-06-09T16:02:23.200141Z",
     "start_time": "2020-06-09T16:02:23.197142Z"
    }
   },
   "outputs": [],
   "source": [
    "X, y = Xy['summary'], Xy['category']"
   ]
  },
  {
   "cell_type": "code",
   "execution_count": 9,
   "metadata": {
    "ExecuteTime": {
     "end_time": "2020-06-09T16:02:23.233143Z",
     "start_time": "2020-06-09T16:02:23.202141Z"
    }
   },
   "outputs": [
    {
     "data": {
      "text/plain": [
       "0    help us set up a new training classroom to tea...\n",
       "1    mentor homeless children between the ages of 2...\n",
       "3    in celebration of father's day we invite fathe...\n",
       "4    the police athletic league of new york city se...\n",
       "5    helping children 6-12 design a stage for a dec...\n",
       "Name: summary, dtype: object"
      ]
     },
     "execution_count": 9,
     "metadata": {},
     "output_type": "execute_result"
    }
   ],
   "source": [
    "# Remove punctuation\n",
    "X = X.map(lambda x: re.sub('[,\\.!?]', '', x))\n",
    "\n",
    "# Convert the titles to lowercase\n",
    "X = X.map(lambda x: x.lower())\n",
    "\n",
    "X.head()"
   ]
  },
  {
   "cell_type": "code",
   "execution_count": 10,
   "metadata": {
    "ExecuteTime": {
     "end_time": "2020-06-09T16:02:23.276455Z",
     "start_time": "2020-06-09T16:02:23.235142Z"
    }
   },
   "outputs": [],
   "source": [
    "X_tfidf = vectorizer.fit_transform(X)"
   ]
  },
  {
   "cell_type": "code",
   "execution_count": 11,
   "metadata": {
    "ExecuteTime": {
     "end_time": "2020-06-09T16:02:23.307706Z",
     "start_time": "2020-06-09T16:02:23.276455Z"
    }
   },
   "outputs": [],
   "source": [
    "y_tfidf = vectorizer.transform(y)"
   ]
  },
  {
   "cell_type": "code",
   "execution_count": 12,
   "metadata": {
    "ExecuteTime": {
     "end_time": "2020-06-09T16:02:23.322961Z",
     "start_time": "2020-06-09T16:02:23.314946Z"
    }
   },
   "outputs": [
    {
     "name": "stdout",
     "output_type": "stream",
     "text": [
      "finance\n"
     ]
    }
   ],
   "source": [
    "print(list(vectorizer.vocabulary_.keys())[list(vectorizer.vocabulary_.values()).index(1230)]) "
   ]
  },
  {
   "cell_type": "code",
   "execution_count": 13,
   "metadata": {
    "ExecuteTime": {
     "end_time": "2020-06-09T16:02:23.341131Z",
     "start_time": "2020-06-09T16:02:23.325951Z"
    }
   },
   "outputs": [],
   "source": [
    "vectorizer.vocabulary_.get(1230)"
   ]
  },
  {
   "cell_type": "code",
   "execution_count": 14,
   "metadata": {
    "ExecuteTime": {
     "end_time": "2020-06-09T16:02:23.354132Z",
     "start_time": "2020-06-09T16:02:23.346130Z"
    }
   },
   "outputs": [
    {
     "data": {
      "text/plain": [
       "'help us set up a new training classroom to teach young adults personal finance'"
      ]
     },
     "execution_count": 14,
     "metadata": {},
     "output_type": "execute_result"
    }
   ],
   "source": [
    "X[0]"
   ]
  },
  {
   "cell_type": "code",
   "execution_count": 15,
   "metadata": {
    "ExecuteTime": {
     "end_time": "2020-06-09T16:02:23.368131Z",
     "start_time": "2020-06-09T16:02:23.359130Z"
    }
   },
   "outputs": [
    {
     "name": "stdout",
     "output_type": "stream",
     "text": [
      "  (0, 1230)\t0.4151976044641033\n",
      "  (0, 2204)\t0.3317212414306079\n",
      "  (0, 193)\t0.2843319675757487\n",
      "  (0, 3274)\t0.3162270560601846\n",
      "  (0, 2934)\t0.2933113960624421\n",
      "  (0, 622)\t0.37066426847279255\n",
      "  (0, 3025)\t0.3162270560601846\n",
      "  (0, 2015)\t0.18437144545593293\n",
      "  (0, 2676)\t0.3117944004668203\n",
      "  (0, 3104)\t0.23841690041699734\n",
      "  (0, 1463)\t0.15891326573806228\n"
     ]
    }
   ],
   "source": [
    "print(X_tfidf[0])"
   ]
  },
  {
   "cell_type": "code",
   "execution_count": 16,
   "metadata": {
    "ExecuteTime": {
     "end_time": "2020-06-09T16:02:23.386136Z",
     "start_time": "2020-06-09T16:02:23.371133Z"
    }
   },
   "outputs": [
    {
     "name": "stdout",
     "output_type": "stream",
     "text": [
      "[[1230]]\n"
     ]
    }
   ],
   "source": [
    "print(X_tfidf[0].argmax(axis=1))"
   ]
  },
  {
   "cell_type": "code",
   "execution_count": 17,
   "metadata": {
    "ExecuteTime": {
     "end_time": "2020-06-09T16:02:23.408128Z",
     "start_time": "2020-06-09T16:02:23.389134Z"
    }
   },
   "outputs": [],
   "source": [
    "pred = np.array(X_tfidf.argmax(axis=1))"
   ]
  },
  {
   "cell_type": "code",
   "execution_count": 18,
   "metadata": {
    "ExecuteTime": {
     "end_time": "2020-06-09T16:02:23.419131Z",
     "start_time": "2020-06-09T16:02:23.410131Z"
    }
   },
   "outputs": [
    {
     "data": {
      "text/plain": [
       "'finance'"
      ]
     },
     "execution_count": 18,
     "metadata": {},
     "output_type": "execute_result"
    }
   ],
   "source": [
    "list(vectorizer.vocabulary_.keys())[list(vectorizer.vocabulary_.values()).index(pred[0])]"
   ]
  },
  {
   "cell_type": "code",
   "execution_count": 19,
   "metadata": {
    "ExecuteTime": {
     "end_time": "2020-06-09T16:02:24.333352Z",
     "start_time": "2020-06-09T16:02:23.422132Z"
    }
   },
   "outputs": [],
   "source": [
    "pred_labels = [list(vectorizer.vocabulary_.keys())[list(vectorizer.vocabulary_.values()).index(x)] for x in pred]"
   ]
  }
 ],
 "metadata": {
  "kernelspec": {
   "display_name": "Python 3",
   "language": "python",
   "name": "python3"
  },
  "language_info": {
   "codemirror_mode": {
    "name": "ipython",
    "version": 3
   },
   "file_extension": ".py",
   "mimetype": "text/x-python",
   "name": "python",
   "nbconvert_exporter": "python",
   "pygments_lexer": "ipython3",
   "version": "3.7.4"
  },
  "latex_envs": {
   "LaTeX_envs_menu_present": true,
   "autoclose": false,
   "autocomplete": true,
   "bibliofile": "biblio.bib",
   "cite_by": "apalike",
   "current_citInitial": 1,
   "eqLabelWithNumbers": true,
   "eqNumInitial": 1,
   "hotkeys": {
    "equation": "Ctrl-E",
    "itemize": "Ctrl-I"
   },
   "labels_anchors": false,
   "latex_user_defs": false,
   "report_style_numbering": false,
   "user_envs_cfg": false
  },
  "toc": {
   "base_numbering": 1,
   "nav_menu": {},
   "number_sections": true,
   "sideBar": true,
   "skip_h1_title": false,
   "title_cell": "Table of Contents",
   "title_sidebar": "Contents",
   "toc_cell": false,
   "toc_position": {},
   "toc_section_display": true,
   "toc_window_display": false
  }
 },
 "nbformat": 4,
 "nbformat_minor": 4
}
