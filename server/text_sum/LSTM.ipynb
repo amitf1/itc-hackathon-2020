{
 "cells": [
  {
   "cell_type": "code",
   "execution_count": 28,
   "metadata": {
    "ExecuteTime": {
     "end_time": "2020-06-10T06:42:11.473310Z",
     "start_time": "2020-06-10T06:42:11.469305Z"
    }
   },
   "outputs": [],
   "source": [
    "import requests\n",
    "import pandas as pd\n",
    "import re\n",
    "import numpy as np\n",
    "import functools\n",
    "import math\n",
    "import numpy.random as n\n",
    "import matplotlib.pyplot as plt\n",
    "from tensorflow.keras.utils import plot_model\n",
    "from tensorflow.keras.preprocessing.text import Tokenizer\n",
    "from tensorflow.keras.preprocessing.sequence import pad_sequences\n",
    "from sklearn.model_selection import train_test_split\n",
    "from sklearn.metrics import classification_report\n",
    "from numpy import array\n",
    "from tensorflow.keras import Model\n",
    "from tensorflow.keras.layers import LSTM,Dense,SimpleRNN,Input,Embedding,Bidirectional,Dropout,SpatialDropout1D\n",
    "from tensorflow.keras.optimizers import RMSprop, Adam"
   ]
  },
  {
   "cell_type": "code",
   "execution_count": 29,
   "metadata": {
    "ExecuteTime": {
     "end_time": "2020-06-10T06:42:11.479783Z",
     "start_time": "2020-06-10T06:42:11.474438Z"
    }
   },
   "outputs": [],
   "source": [
    "def _get_sequences(texts,tokenizer):\n",
    "        seqs = tokenizer.texts_to_sequences(texts)\n",
    "        return pad_sequences(seqs, maxlen=30,\n",
    "                             value=0, padding='post', truncating='post')"
   ]
  },
  {
   "cell_type": "code",
   "execution_count": 30,
   "metadata": {
    "ExecuteTime": {
     "end_time": "2020-06-10T06:42:11.489109Z",
     "start_time": "2020-06-10T06:42:11.481094Z"
    }
   },
   "outputs": [],
   "source": [
    "df = pd.read_csv('joined_dataset.csv')"
   ]
  },
  {
   "cell_type": "code",
   "execution_count": 31,
   "metadata": {
    "ExecuteTime": {
     "end_time": "2020-06-10T06:42:11.494469Z",
     "start_time": "2020-06-10T06:42:11.490352Z"
    }
   },
   "outputs": [],
   "source": [
    "Xy = df[['summary', 'category']].dropna()"
   ]
  },
  {
   "cell_type": "code",
   "execution_count": 32,
   "metadata": {
    "ExecuteTime": {
     "end_time": "2020-06-10T06:42:11.498099Z",
     "start_time": "2020-06-10T06:42:11.495620Z"
    }
   },
   "outputs": [],
   "source": [
    "X, y = Xy['summary'], Xy['category']"
   ]
  },
  {
   "cell_type": "code",
   "execution_count": 33,
   "metadata": {
    "ExecuteTime": {
     "end_time": "2020-06-10T06:42:11.515619Z",
     "start_time": "2020-06-10T06:42:11.498979Z"
    }
   },
   "outputs": [
    {
     "data": {
      "text/plain": [
       "0    help us set up a new training classroom to tea...\n",
       "1    mentor homeless children between the ages of 2...\n",
       "3    in celebration of father's day we invite fathe...\n",
       "4    the police athletic league of new york city se...\n",
       "5    helping children 6-12 design a stage for a dec...\n",
       "Name: summary, dtype: object"
      ]
     },
     "execution_count": 33,
     "metadata": {},
     "output_type": "execute_result"
    }
   ],
   "source": [
    "# Remove punctuation\n",
    "X = X.map(lambda x: re.sub('[,\\.!?]', '', x))\n",
    "\n",
    "# Convert the titles to lowercase\n",
    "X = X.map(lambda x: x.lower())\n",
    "\n",
    "X.head()"
   ]
  },
  {
   "cell_type": "code",
   "execution_count": 34,
   "metadata": {
    "ExecuteTime": {
     "end_time": "2020-06-10T06:42:11.521480Z",
     "start_time": "2020-06-10T06:42:11.516833Z"
    }
   },
   "outputs": [
    {
     "data": {
      "text/plain": [
       "0      Strengthening Communities\n",
       "1                      Education\n",
       "3      Helping Neighbors in Need\n",
       "4      Strengthening Communities\n",
       "5      Strengthening Communities\n",
       "                 ...            \n",
       "862                    Education\n",
       "863                    Education\n",
       "864    Communities and Neighbors\n",
       "865        Health and Well-Being\n",
       "866                    Education\n",
       "Name: category, Length: 706, dtype: object"
      ]
     },
     "execution_count": 34,
     "metadata": {},
     "output_type": "execute_result"
    }
   ],
   "source": [
    "y"
   ]
  },
  {
   "cell_type": "code",
   "execution_count": 35,
   "metadata": {
    "ExecuteTime": {
     "end_time": "2020-06-10T06:42:11.530726Z",
     "start_time": "2020-06-10T06:42:11.523422Z"
    }
   },
   "outputs": [],
   "source": [
    "word_set=set()\n",
    "for s in X:\n",
    "    word_set|=set(s.split())"
   ]
  },
  {
   "cell_type": "code",
   "execution_count": 36,
   "metadata": {
    "ExecuteTime": {
     "end_time": "2020-06-10T06:42:11.552165Z",
     "start_time": "2020-06-10T06:42:11.531918Z"
    }
   },
   "outputs": [],
   "source": [
    "tokenizer=Tokenizer(num_words=len(word_set)+1, filters='!\"#$%&()*+,-.:;=?@[\\\\]^_`{|}~\\t\\n', lower=True, split=' ', oov_token=\"UNK\")\n",
    "tokenizer.fit_on_texts(X)\n",
    "label_dict={label:idx for idx,label in enumerate(set(y))}"
   ]
  },
  {
   "cell_type": "code",
   "execution_count": 37,
   "metadata": {
    "ExecuteTime": {
     "end_time": "2020-06-10T06:42:11.556231Z",
     "start_time": "2020-06-10T06:42:11.553155Z"
    }
   },
   "outputs": [
    {
     "data": {
      "text/plain": [
       "{'Emergency Preparedness': 0,\n",
       " 'Education': 1,\n",
       " 'Helping Neighbors in Need': 2,\n",
       " 'Communities and Neighbors': 3,\n",
       " 'Health and Well-Being': 4,\n",
       " 'Health': 5,\n",
       " 'Economic and Workforce Development': 6,\n",
       " 'Emergency Preparedness and Response': 7,\n",
       " 'Strengthening Communities': 8,\n",
       " 'Environment': 9}"
      ]
     },
     "execution_count": 37,
     "metadata": {},
     "output_type": "execute_result"
    }
   ],
   "source": [
    "label_dict"
   ]
  },
  {
   "cell_type": "code",
   "execution_count": 38,
   "metadata": {
    "ExecuteTime": {
     "end_time": "2020-06-10T06:42:11.575585Z",
     "start_time": "2020-06-10T06:42:11.557233Z"
    }
   },
   "outputs": [],
   "source": [
    "X_train=_get_sequences(X,tokenizer)\n",
    "y_train=np.array([label_dict[label] for label in y])"
   ]
  },
  {
   "cell_type": "code",
   "execution_count": 39,
   "metadata": {
    "ExecuteTime": {
     "end_time": "2020-06-10T06:42:11.579040Z",
     "start_time": "2020-06-10T06:42:11.576502Z"
    }
   },
   "outputs": [
    {
     "data": {
      "text/plain": [
       "array([[  12,   47,  202,   45,    5,   19,  183,  574,    3,  142,  214,\n",
       "         108,  262, 1206,    0,    0,    0,    0,    0,    0,    0,    0,\n",
       "           0,    0,    0,    0,    0,    0,    0,    0],\n",
       "       [ 238,  418,   52,  483,    4,  101,    7,  215,    3,  298,   17,\n",
       "          11,  893,  239,   23,    0,    0,    0,    0,    0,    0,    0,\n",
       "           0,    0,    0,    0,    0,    0,    0,    0]], dtype=int32)"
      ]
     },
     "execution_count": 39,
     "metadata": {},
     "output_type": "execute_result"
    }
   ],
   "source": [
    "X_train[:2]"
   ]
  },
  {
   "cell_type": "code",
   "execution_count": 40,
   "metadata": {
    "ExecuteTime": {
     "end_time": "2020-06-10T06:42:11.582361Z",
     "start_time": "2020-06-10T06:42:11.579908Z"
    }
   },
   "outputs": [
    {
     "data": {
      "text/plain": [
       "array([8, 1, 2, 8, 8])"
      ]
     },
     "execution_count": 40,
     "metadata": {},
     "output_type": "execute_result"
    }
   ],
   "source": [
    "y_train[:5]"
   ]
  },
  {
   "cell_type": "code",
   "execution_count": 48,
   "metadata": {
    "ExecuteTime": {
     "end_time": "2020-06-10T06:44:25.832990Z",
     "start_time": "2020-06-10T06:44:25.828626Z"
    }
   },
   "outputs": [],
   "source": [
    "def get_lstm_model():\n",
    "    d = 0.5\n",
    "    rd = 0.5\n",
    "    rnn_units = 128\n",
    "    input_text = Input((30,))\n",
    "    text_embedding = Embedding(input_dim=len(word_set) + 2, output_dim=128,\n",
    "                               input_length=30, mask_zero=True)(input_text)\n",
    "    bilstm = Bidirectional(LSTM(units=rnn_units, return_sequences=False, dropout=d,\n",
    "                                    recurrent_dropout=rd))(text_embedding)\n",
    "    out = Dense(units=10, activation=\"softmax\")(bilstm)\n",
    "    model = Model(input_text, out)\n",
    "    return model"
   ]
  },
  {
   "cell_type": "code",
   "execution_count": 49,
   "metadata": {
    "ExecuteTime": {
     "end_time": "2020-06-10T06:44:27.384091Z",
     "start_time": "2020-06-10T06:44:26.998654Z"
    }
   },
   "outputs": [],
   "source": [
    "model = get_lstm_model()\n",
    "model.compile(optimizer=RMSprop(),\n",
    "                          loss=\"sparse_categorical_crossentropy\",\n",
    "                          metrics=[\"accuracy\"])"
   ]
  },
  {
   "cell_type": "code",
   "execution_count": 56,
   "metadata": {
    "ExecuteTime": {
     "end_time": "2020-06-10T07:01:40.012738Z",
     "start_time": "2020-06-10T07:01:40.002755Z"
    }
   },
   "outputs": [
    {
     "name": "stdout",
     "output_type": "stream",
     "text": [
      "Model: \"model_2\"\n",
      "_________________________________________________________________\n",
      "Layer (type)                 Output Shape              Param #   \n",
      "=================================================================\n",
      "input_3 (InputLayer)         [(None, 30)]              0         \n",
      "_________________________________________________________________\n",
      "embedding_2 (Embedding)      (None, 30, 128)           477568    \n",
      "_________________________________________________________________\n",
      "bidirectional_2 (Bidirection (None, 256)               263168    \n",
      "_________________________________________________________________\n",
      "dense_2 (Dense)              (None, 10)                2570      \n",
      "=================================================================\n",
      "Total params: 743,306\n",
      "Trainable params: 743,306\n",
      "Non-trainable params: 0\n",
      "_________________________________________________________________\n"
     ]
    }
   ],
   "source": [
    "model.summary()"
   ]
  },
  {
   "cell_type": "code",
   "execution_count": 61,
   "metadata": {
    "ExecuteTime": {
     "end_time": "2020-06-10T07:07:14.009288Z",
     "start_time": "2020-06-10T07:07:14.006295Z"
    }
   },
   "outputs": [
    {
     "data": {
      "text/plain": [
       "((706, 30), (706,))"
      ]
     },
     "execution_count": 61,
     "metadata": {},
     "output_type": "execute_result"
    }
   ],
   "source": [
    "X_train.shape, y_train.shape"
   ]
  },
  {
   "cell_type": "code",
   "execution_count": 50,
   "metadata": {
    "ExecuteTime": {
     "end_time": "2020-06-10T06:45:33.492409Z",
     "start_time": "2020-06-10T06:44:27.702503Z"
    },
    "scrolled": true
   },
   "outputs": [
    {
     "name": "stdout",
     "output_type": "stream",
     "text": [
      "Epoch 1/20\n",
      "57/57 [==============================] - 3s 49ms/step - loss: 1.5795 - accuracy: 0.4894 - val_loss: 4.5220 - val_accuracy: 0.1690\n",
      "Epoch 2/20\n",
      "57/57 [==============================] - 3s 50ms/step - loss: 1.2933 - accuracy: 0.5266 - val_loss: 4.3607 - val_accuracy: 0.2676\n",
      "Epoch 3/20\n",
      "57/57 [==============================] - 3s 56ms/step - loss: 1.0385 - accuracy: 0.6294 - val_loss: 6.0178 - val_accuracy: 0.1761\n",
      "Epoch 4/20\n",
      "57/57 [==============================] - 3s 56ms/step - loss: 0.9011 - accuracy: 0.6809 - val_loss: 5.4867 - val_accuracy: 0.2676\n",
      "Epoch 5/20\n",
      "57/57 [==============================] - 3s 56ms/step - loss: 0.7415 - accuracy: 0.7376 - val_loss: 6.0085 - val_accuracy: 0.1972\n",
      "Epoch 6/20\n",
      "57/57 [==============================] - 3s 55ms/step - loss: 0.5894 - accuracy: 0.8050 - val_loss: 6.1603 - val_accuracy: 0.3099\n",
      "Epoch 7/20\n",
      "57/57 [==============================] - 3s 56ms/step - loss: 0.4421 - accuracy: 0.8688 - val_loss: 4.6259 - val_accuracy: 0.3310\n",
      "Epoch 8/20\n",
      "57/57 [==============================] - 3s 49ms/step - loss: 0.3243 - accuracy: 0.9096 - val_loss: 6.1527 - val_accuracy: 0.2746\n",
      "Epoch 9/20\n",
      "57/57 [==============================] - 3s 54ms/step - loss: 0.2387 - accuracy: 0.9450 - val_loss: 7.0334 - val_accuracy: 0.2817\n",
      "Epoch 10/20\n",
      "57/57 [==============================] - 3s 59ms/step - loss: 0.1744 - accuracy: 0.9539 - val_loss: 7.4773 - val_accuracy: 0.3521\n",
      "Epoch 11/20\n",
      "57/57 [==============================] - 3s 59ms/step - loss: 0.1679 - accuracy: 0.9450 - val_loss: 5.4609 - val_accuracy: 0.3169\n",
      "Epoch 12/20\n",
      "57/57 [==============================] - 3s 53ms/step - loss: 0.1283 - accuracy: 0.9663 - val_loss: 6.2184 - val_accuracy: 0.3239\n",
      "Epoch 13/20\n",
      "57/57 [==============================] - 3s 52ms/step - loss: 0.0873 - accuracy: 0.9770 - val_loss: 5.9474 - val_accuracy: 0.3169\n",
      "Epoch 14/20\n",
      "57/57 [==============================] - 3s 50ms/step - loss: 0.0960 - accuracy: 0.9752 - val_loss: 6.0589 - val_accuracy: 0.3310\n",
      "Epoch 15/20\n",
      "57/57 [==============================] - 3s 56ms/step - loss: 0.0757 - accuracy: 0.9770 - val_loss: 7.0510 - val_accuracy: 0.3662\n",
      "Epoch 16/20\n",
      "57/57 [==============================] - 3s 51ms/step - loss: 0.0570 - accuracy: 0.9840 - val_loss: 6.1231 - val_accuracy: 0.3380\n",
      "Epoch 17/20\n",
      "57/57 [==============================] - 3s 55ms/step - loss: 0.0501 - accuracy: 0.9840 - val_loss: 6.1572 - val_accuracy: 0.3592\n",
      "Epoch 18/20\n",
      "57/57 [==============================] - 3s 58ms/step - loss: 0.0819 - accuracy: 0.9805 - val_loss: 7.1000 - val_accuracy: 0.2676\n",
      "Epoch 19/20\n",
      "57/57 [==============================] - 3s 50ms/step - loss: 0.0702 - accuracy: 0.9858 - val_loss: 6.3362 - val_accuracy: 0.3521\n",
      "Epoch 20/20\n",
      "57/57 [==============================] - 3s 54ms/step - loss: 0.0387 - accuracy: 0.9823 - val_loss: 6.4038 - val_accuracy: 0.3310\n"
     ]
    }
   ],
   "source": [
    "history_bilstm = model.fit(x=X_train, y=y_train, validation_split=0.2,\n",
    "         batch_size=10, epochs=20)"
   ]
  },
  {
   "cell_type": "code",
   "execution_count": 76,
   "metadata": {
    "ExecuteTime": {
     "end_time": "2020-06-10T08:51:02.858641Z",
     "start_time": "2020-06-10T08:51:02.823248Z"
    }
   },
   "outputs": [],
   "source": [
    "pred = model.predict(X_train[698:700]).argmax(axis=1)"
   ]
  },
  {
   "cell_type": "code",
   "execution_count": 74,
   "metadata": {
    "ExecuteTime": {
     "end_time": "2020-06-10T08:49:54.732949Z",
     "start_time": "2020-06-10T08:49:54.730043Z"
    }
   },
   "outputs": [
    {
     "data": {
      "text/plain": [
       "array([8, 1])"
      ]
     },
     "execution_count": 74,
     "metadata": {},
     "output_type": "execute_result"
    }
   ],
   "source": [
    "pred.argmax(axis=1)"
   ]
  },
  {
   "cell_type": "code",
   "execution_count": 78,
   "metadata": {
    "ExecuteTime": {
     "end_time": "2020-06-10T08:52:01.099798Z",
     "start_time": "2020-06-10T08:52:01.095510Z"
    }
   },
   "outputs": [
    {
     "data": {
      "text/plain": [
       "array(['Strengthening Communities', 'Education'], dtype='<U25')"
      ]
     },
     "execution_count": 78,
     "metadata": {},
     "output_type": "execute_result"
    }
   ],
   "source": [
    "np.array([label_dict[p] for p in pred])"
   ]
  },
  {
   "cell_type": "code",
   "execution_count": 75,
   "metadata": {
    "ExecuteTime": {
     "end_time": "2020-06-10T08:50:36.506063Z",
     "start_time": "2020-06-10T08:50:36.500434Z"
    }
   },
   "outputs": [],
   "source": [
    "label_dict={idx:label for idx,label in enumerate(set(y))}"
   ]
  },
  {
   "cell_type": "code",
   "execution_count": 79,
   "metadata": {
    "ExecuteTime": {
     "end_time": "2020-06-10T09:01:35.008308Z",
     "start_time": "2020-06-10T09:01:35.000166Z"
    }
   },
   "outputs": [
    {
     "data": {
      "text/plain": [
       "{0: 'Emergency Preparedness',\n",
       " 1: 'Education',\n",
       " 2: 'Helping Neighbors in Need',\n",
       " 3: 'Communities and Neighbors',\n",
       " 4: 'Health and Well-Being',\n",
       " 5: 'Health',\n",
       " 6: 'Economic and Workforce Development',\n",
       " 7: 'Emergency Preparedness and Response',\n",
       " 8: 'Strengthening Communities',\n",
       " 9: 'Environment'}"
      ]
     },
     "execution_count": 79,
     "metadata": {},
     "output_type": "execute_result"
    }
   ],
   "source": [
    "label_dict"
   ]
  },
  {
   "cell_type": "code",
   "execution_count": 53,
   "metadata": {
    "ExecuteTime": {
     "end_time": "2020-06-10T06:56:12.003544Z",
     "start_time": "2020-06-10T06:56:11.996597Z"
    }
   },
   "outputs": [
    {
     "data": {
      "text/plain": [
       "(30,)"
      ]
     },
     "execution_count": 53,
     "metadata": {},
     "output_type": "execute_result"
    }
   ],
   "source": [
    "X_train[0].shape"
   ]
  },
  {
   "cell_type": "code",
   "execution_count": 54,
   "metadata": {
    "ExecuteTime": {
     "end_time": "2020-06-10T06:56:15.957767Z",
     "start_time": "2020-06-10T06:56:15.877292Z"
    }
   },
   "outputs": [
    {
     "data": {
      "image/png": "[encoded data removed]",
      "text/plain": [
       "<IPython.core.display.Image object>"
      ]
     },
     "execution_count": 54,
     "metadata": {},
     "output_type": "execute_result"
    }
   ],
   "source": [
    "from tensorflow.keras.utils import plot_model\n",
    "plot_model(model, 'model.png', show_shapes=True)"
   ]
  },
  {
   "cell_type": "code",
   "execution_count": 55,
   "metadata": {
    "ExecuteTime": {
     "end_time": "2020-06-10T06:56:29.917744Z",
     "start_time": "2020-06-10T06:56:29.909347Z"
    }
   },
   "outputs": [
    {
     "data": {
      "text/plain": [
       "(30, 10)"
      ]
     },
     "execution_count": 55,
     "metadata": {},
     "output_type": "execute_result"
    }
   ],
   "source": [
    "pred.shape"
   ]
  },
  {
   "cell_type": "code",
   "execution_count": 67,
   "metadata": {
    "ExecuteTime": {
     "end_time": "2020-06-10T07:08:39.537537Z",
     "start_time": "2020-06-10T07:08:39.533573Z"
    }
   },
   "outputs": [
    {
     "data": {
      "text/plain": [
       "'Education'"
      ]
     },
     "execution_count": 67,
     "metadata": {},
     "output_type": "execute_result"
    }
   ],
   "source": [
    "y.iloc[700]"
   ]
  },
  {
   "cell_type": "code",
   "execution_count": 70,
   "metadata": {
    "ExecuteTime": {
     "end_time": "2020-06-10T07:57:35.877017Z",
     "start_time": "2020-06-10T07:57:35.846426Z"
    }
   },
   "outputs": [],
   "source": [
    "model.save('model.h5')"
   ]
  }
 ],
 "metadata": {
  "kernelspec": {
   "display_name": "Python 3",
   "language": "python",
   "name": "python3"
  },
  "language_info": {
   "codemirror_mode": {
    "name": "ipython",
    "version": 3
   },
   "file_extension": ".py",
   "mimetype": "text/x-python",
   "name": "python",
   "nbconvert_exporter": "python",
   "pygments_lexer": "ipython3",
   "version": "3.6.10"
  }
 },
 "nbformat": 4,
 "nbformat_minor": 4
}
